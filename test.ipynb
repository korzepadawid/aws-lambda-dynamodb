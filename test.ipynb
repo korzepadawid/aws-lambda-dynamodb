{
 "cells": [
  {
   "cell_type": "code",
   "execution_count": 1,
   "id": "initial_id",
   "metadata": {
    "collapsed": true,
    "ExecuteTime": {
     "end_time": "2025-02-16T21:33:55.139896Z",
     "start_time": "2025-02-16T21:33:49.458061Z"
    }
   },
   "outputs": [
    {
     "name": "stdout",
     "output_type": "stream",
     "text": [
      "==================\n",
      "OK zaliczone\n"
     ]
    }
   ],
   "source": [
    "import requests\n",
    "import json\n",
    "from faker import Faker\n",
    "\n",
    "WEBSERVICE_URL = \"https://rtckiqwxp1.execute-api.us-east-1.amazonaws.com/default/gp-al-3\"\n",
    "\n",
    "fake = Faker()\n",
    "n = 3\n",
    "outs = []\n",
    "outs2 = []\n",
    "OK = True\n",
    "\n",
    "for i in range(n):\n",
    "    try:\n",
    "        data = json.dumps({'userId': 1, 'title': fake.catch_phrase(), 'body': fake.text()})\n",
    "        headers = {'Content-Type': 'application/json'}\n",
    "        outs.append(requests.post(WEBSERVICE_URL, data=data, headers=headers).json())\n",
    "    except:\n",
    "        print(\"Nie udało się dodać nowego zasobu\")\n",
    "        OK = False\n",
    "\n",
    "for i in range(n):\n",
    "    try:\n",
    "        tmp = requests.get(f\"{WEBSERVICE_URL}/{outs[i]['id']}\").json()\n",
    "        if tmp != outs[i]:\n",
    "            print(\"Pobrany zasób nie jest zgodny ze wzorcem\")\n",
    "            OK = False\n",
    "    except:\n",
    "        print(f\"Nie udało się pobrać zasobu: {WEBSERVICE_URL}/{outs[i]['id']}\")\n",
    "        OK = False\n",
    "\n",
    "for i in range(n):\n",
    "    try:\n",
    "        data = json.dumps({'userId': 1, 'title': fake.catch_phrase(), 'body': fake.text()})\n",
    "        headers = {'Content-Type': 'application/json'}\n",
    "        outs2.append(requests.put(f\"{WEBSERVICE_URL}/{outs[i]['id']}\", data=data, headers=headers).json())\n",
    "    except:\n",
    "        OK = False\n",
    "        print(f\"Nie udało się zmodyfikować zasobu: {WEBSERVICE_URL}/{outs[i]['id']}\")\n",
    "\n",
    "for i in range(n):\n",
    "    try:\n",
    "        tmp = requests.get(f\"{WEBSERVICE_URL}/{outs[i]['id']}\").json()\n",
    "        if tmp != outs2[i]:\n",
    "            print(\"Pobrany zasób nie jest zgodny ze zaktualizowanym wzorcem\")\n",
    "            OK = False\n",
    "    except:\n",
    "        print(f\"Nie udało się pobrać zasobu: {WEBSERVICE_URL}/{outs[i]['id']}\")\n",
    "        OK = False\n",
    "\n",
    "for i in range(n):\n",
    "    try:\n",
    "        headers = {'Content-Type': 'application/json'}\n",
    "        requests.delete(f\"{WEBSERVICE_URL}/{outs[i]['id']}\", headers=headers).json()\n",
    "    except:\n",
    "        print(f\"Nie udało się usunąć zasobu: {WEBSERVICE_URL}/{outs[i]['id']}\")\n",
    "        OK = False\n",
    "\n",
    "if OK:\n",
    "    print(\"==================\\nOK zaliczone\")\n",
    "else:\n",
    "    print(\"==================\\nNie zaliczone\")\n"
   ]
  },
  {
   "cell_type": "code",
   "outputs": [],
   "source": [],
   "metadata": {
    "collapsed": false
   },
   "id": "d9d606782357acd6"
  }
 ],
 "metadata": {
  "kernelspec": {
   "display_name": "Python 3",
   "language": "python",
   "name": "python3"
  },
  "language_info": {
   "codemirror_mode": {
    "name": "ipython",
    "version": 2
   },
   "file_extension": ".py",
   "mimetype": "text/x-python",
   "name": "python",
   "nbconvert_exporter": "python",
   "pygments_lexer": "ipython2",
   "version": "2.7.6"
  }
 },
 "nbformat": 4,
 "nbformat_minor": 5
}
